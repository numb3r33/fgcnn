{
 "cells": [
  {
   "cell_type": "code",
   "execution_count": null,
   "metadata": {},
   "outputs": [],
   "source": [
    "# default_exp core"
   ]
  },
  {
   "cell_type": "markdown",
   "metadata": {},
   "source": [
    "## Todos\n",
    "\n",
    "- [ ] Decompose this notebook into multiple notebooks \n",
    "    - [ ] one for data preparation ( training, validation and test )\n",
    "    - [ ] one for fgcnn\n",
    "    - [ ] one for ipnn\n",
    "    - [ ] one for experimenting with training dl models heuristics, e.g. observer batch loss graph etc.\n",
    "- [ ] Add docs about the paper and what are the key ideas.\n",
    "- [ ] Highlight input parameter calculation in the model notebooks.\n",
    "- [ ] Add section for the dataset used for validating model results.\n",
    "- [ ] Section for further ideas and current implementation."
   ]
  },
  {
   "cell_type": "markdown",
   "metadata": {},
   "source": [
    "# module name here\n",
    "\n",
    "> API details."
   ]
  },
  {
   "cell_type": "code",
   "execution_count": null,
   "metadata": {},
   "outputs": [],
   "source": [
    "#hide\n",
    "from nbdev.showdoc import *"
   ]
  },
  {
   "cell_type": "code",
   "execution_count": null,
   "metadata": {},
   "outputs": [],
   "source": [
    "from   pathlib import Path\n",
    "from   fastai.tabular.all import *\n",
    "import pandas as pd\n",
    "from   datetime import datetime"
   ]
  },
  {
   "cell_type": "code",
   "execution_count": null,
   "metadata": {},
   "outputs": [],
   "source": [
    "DATA_DIR = Path('/home/jovyan/data/')"
   ]
  },
  {
   "cell_type": "code",
   "execution_count": null,
   "metadata": {},
   "outputs": [
    {
     "name": "stdout",
     "output_type": "stream",
     "text": [
      "train shape: (9460121, 24), test shape: (3870752, 24)\n",
      "CPU times: user 39.4 s, sys: 2.12 s, total: 41.5 s\n",
      "Wall time: 41.5 s\n"
     ]
    }
   ],
   "source": [
    "%%time\n",
    "date_parser = lambda date: datetime.strptime(date, '%y%m%d%H')\n",
    "\n",
    "df      = pd.read_csv(DATA_DIR / 'train', nrows=14000000, #parse_dates=['hour'], date_parser=date_parser\n",
    "                     )\n",
    "# test set is any row on `141023`\n",
    "df_test = df.loc[df.hour.astype('str').str.slice(0, 6) == '141023']\n",
    "\n",
    "# train set is any row \n",
    "df      = df.loc[df.hour < 14102300]\n",
    "\n",
    "print(f'train shape: {df.shape}, test shape: {df_test.shape}')\n",
    "\n",
    "#df_test = pd.read_csv(DATA_DIR / 'test' , parse_dates=['hour'], date_parser=date_parser)\n",
    "\n",
    "# decompose hour into weekday and hour\n",
    "# df = df.assign(weekday=df.hour.dt.weekday)\n",
    "# df = df.assign(click_hour=df.hour.dt.hour)\n",
    "\n",
    "# df_test = df_test.assign(weekday=df_test.hour.dt.weekday)\n",
    "# df_test = df_test.assign(click_hour=df_test.hour.dt.hour)"
   ]
  },
  {
   "cell_type": "code",
   "execution_count": null,
   "metadata": {},
   "outputs": [],
   "source": [
    "#decompose hour into weekday and hour\n",
    "df      = df.assign(click_hour=df.hour.astype('str').str.slice(6))\n",
    "df_test = df_test.assign(click_hour=df_test.hour.astype('str').str.slice(6))"
   ]
  },
  {
   "cell_type": "code",
   "execution_count": null,
   "metadata": {},
   "outputs": [],
   "source": [
    "def HourSplitter(hour='141022', seed=None):\n",
    "    \"Create function that splits `items` between train/val with based on date.\"\n",
    "    def _inner(o):\n",
    "        if seed is not None: torch.manual_seed(seed)\n",
    "        indices  = o.index.values\n",
    "        valid    = np.where(o.hour.astype(str).str.slice(0, 6) == hour)[0]\n",
    "        train    = list(set(indices) - set(valid))\n",
    "        \n",
    "        return indices[train],indices[valid]\n",
    "    return _inner"
   ]
  },
  {
   "cell_type": "code",
   "execution_count": null,
   "metadata": {},
   "outputs": [
    {
     "data": {
      "text/plain": [
       "0    0.83541\n",
       "1    0.16459\n",
       "Name: click, dtype: float64"
      ]
     },
     "execution_count": null,
     "metadata": {},
     "output_type": "execute_result"
    }
   ],
   "source": [
    "df.click.value_counts(normalize=True)"
   ]
  },
  {
   "cell_type": "code",
   "execution_count": null,
   "metadata": {},
   "outputs": [
    {
     "name": "stdout",
     "output_type": "stream",
     "text": [
      "CPU times: user 40.6 s, sys: 3.12 s, total: 43.8 s\n",
      "Wall time: 43.5 s\n"
     ]
    }
   ],
   "source": [
    "%%time\n",
    "\n",
    "cat_names  = ['C1', 'banner_pos', 'site_id', 'site_domain',\n",
    "              'site_category', 'app_id', 'app_domain', 'app_category',\n",
    "              'device_id', 'device_ip', 'device_model', 'device_type',\n",
    "              'click_hour', 'device_conn_type', 'C14', 'C15',\n",
    "              'C16', 'C17', 'C18', 'C19', 'C20', 'C21'\n",
    "             ]\n",
    "\n",
    "cont_names = []\n",
    "procs      = [Categorify, FillMissing]\n",
    "\n",
    "splits = HourSplitter(seed=41)(df)\n",
    "# splits = RandomSplitter(seed=41)(df)\n",
    "dls    = TabularDataLoaders.from_df(df, \n",
    "                                 path='.', \n",
    "                                 procs=procs, \n",
    "                                 cat_names=cat_names, \n",
    "                                 cont_names=cont_names, \n",
    "                                 y_names=\"click\", \n",
    "                                 splits=splits, \n",
    "                                 bs=2048\n",
    "                                )"
   ]
  },
  {
   "cell_type": "code",
   "execution_count": null,
   "metadata": {},
   "outputs": [
    {
     "data": {
      "text/html": [
       "<table border=\"1\" class=\"dataframe\">\n",
       "  <thead>\n",
       "    <tr style=\"text-align: right;\">\n",
       "      <th></th>\n",
       "      <th>C1</th>\n",
       "      <th>banner_pos</th>\n",
       "      <th>site_id</th>\n",
       "      <th>site_domain</th>\n",
       "      <th>site_category</th>\n",
       "      <th>app_id</th>\n",
       "      <th>app_domain</th>\n",
       "      <th>app_category</th>\n",
       "      <th>device_id</th>\n",
       "      <th>device_ip</th>\n",
       "      <th>device_model</th>\n",
       "      <th>device_type</th>\n",
       "      <th>click_hour</th>\n",
       "      <th>device_conn_type</th>\n",
       "      <th>C14</th>\n",
       "      <th>C15</th>\n",
       "      <th>C16</th>\n",
       "      <th>C17</th>\n",
       "      <th>C18</th>\n",
       "      <th>C19</th>\n",
       "      <th>C20</th>\n",
       "      <th>C21</th>\n",
       "      <th>click</th>\n",
       "    </tr>\n",
       "  </thead>\n",
       "  <tbody>\n",
       "    <tr>\n",
       "      <th>8197153</th>\n",
       "      <td>1005</td>\n",
       "      <td>1</td>\n",
       "      <td>e151e245</td>\n",
       "      <td>7e091613</td>\n",
       "      <td>f028772b</td>\n",
       "      <td>ecad2386</td>\n",
       "      <td>7801e8d9</td>\n",
       "      <td>07d7df22</td>\n",
       "      <td>a99f214a</td>\n",
       "      <td>332dc66b</td>\n",
       "      <td>76dc4769</td>\n",
       "      <td>1</td>\n",
       "      <td>15</td>\n",
       "      <td>0</td>\n",
       "      <td>21882</td>\n",
       "      <td>320</td>\n",
       "      <td>50</td>\n",
       "      <td>2526</td>\n",
       "      <td>0</td>\n",
       "      <td>35</td>\n",
       "      <td>-1</td>\n",
       "      <td>221</td>\n",
       "      <td>0</td>\n",
       "    </tr>\n",
       "    <tr>\n",
       "      <th>1815298</th>\n",
       "      <td>1005</td>\n",
       "      <td>0</td>\n",
       "      <td>85f751fd</td>\n",
       "      <td>c4e18dd6</td>\n",
       "      <td>50e219e0</td>\n",
       "      <td>e2fcccd2</td>\n",
       "      <td>5c5a694b</td>\n",
       "      <td>0f2161f8</td>\n",
       "      <td>a99f214a</td>\n",
       "      <td>23cfd878</td>\n",
       "      <td>a8964a12</td>\n",
       "      <td>1</td>\n",
       "      <td>08</td>\n",
       "      <td>0</td>\n",
       "      <td>6560</td>\n",
       "      <td>320</td>\n",
       "      <td>50</td>\n",
       "      <td>571</td>\n",
       "      <td>2</td>\n",
       "      <td>39</td>\n",
       "      <td>100048</td>\n",
       "      <td>32</td>\n",
       "      <td>1</td>\n",
       "    </tr>\n",
       "    <tr>\n",
       "      <th>6789492</th>\n",
       "      <td>1005</td>\n",
       "      <td>0</td>\n",
       "      <td>85f751fd</td>\n",
       "      <td>c4e18dd6</td>\n",
       "      <td>50e219e0</td>\n",
       "      <td>e9739828</td>\n",
       "      <td>df32afa9</td>\n",
       "      <td>cef3e649</td>\n",
       "      <td>a99f214a</td>\n",
       "      <td>3e2c01db</td>\n",
       "      <td>e47f989b</td>\n",
       "      <td>1</td>\n",
       "      <td>11</td>\n",
       "      <td>0</td>\n",
       "      <td>21767</td>\n",
       "      <td>320</td>\n",
       "      <td>50</td>\n",
       "      <td>2506</td>\n",
       "      <td>0</td>\n",
       "      <td>35</td>\n",
       "      <td>100020</td>\n",
       "      <td>157</td>\n",
       "      <td>0</td>\n",
       "    </tr>\n",
       "    <tr>\n",
       "      <th>7063646</th>\n",
       "      <td>1005</td>\n",
       "      <td>0</td>\n",
       "      <td>85f751fd</td>\n",
       "      <td>c4e18dd6</td>\n",
       "      <td>50e219e0</td>\n",
       "      <td>66f5e02e</td>\n",
       "      <td>6f7ca2ba</td>\n",
       "      <td>0f2161f8</td>\n",
       "      <td>c28f0035</td>\n",
       "      <td>c5d4327c</td>\n",
       "      <td>9e3836ff</td>\n",
       "      <td>1</td>\n",
       "      <td>11</td>\n",
       "      <td>0</td>\n",
       "      <td>21772</td>\n",
       "      <td>300</td>\n",
       "      <td>50</td>\n",
       "      <td>2507</td>\n",
       "      <td>0</td>\n",
       "      <td>35</td>\n",
       "      <td>-1</td>\n",
       "      <td>157</td>\n",
       "      <td>0</td>\n",
       "    </tr>\n",
       "    <tr>\n",
       "      <th>809392</th>\n",
       "      <td>1005</td>\n",
       "      <td>0</td>\n",
       "      <td>d9750ee7</td>\n",
       "      <td>98572c79</td>\n",
       "      <td>f028772b</td>\n",
       "      <td>ecad2386</td>\n",
       "      <td>7801e8d9</td>\n",
       "      <td>07d7df22</td>\n",
       "      <td>a99f214a</td>\n",
       "      <td>d01c28e4</td>\n",
       "      <td>4ceb2e0b</td>\n",
       "      <td>1</td>\n",
       "      <td>04</td>\n",
       "      <td>0</td>\n",
       "      <td>17914</td>\n",
       "      <td>320</td>\n",
       "      <td>50</td>\n",
       "      <td>2043</td>\n",
       "      <td>2</td>\n",
       "      <td>39</td>\n",
       "      <td>100084</td>\n",
       "      <td>32</td>\n",
       "      <td>0</td>\n",
       "    </tr>\n",
       "    <tr>\n",
       "      <th>8312094</th>\n",
       "      <td>1005</td>\n",
       "      <td>0</td>\n",
       "      <td>1fbe01fe</td>\n",
       "      <td>f3845767</td>\n",
       "      <td>28905ebd</td>\n",
       "      <td>ecad2386</td>\n",
       "      <td>7801e8d9</td>\n",
       "      <td>07d7df22</td>\n",
       "      <td>a99f214a</td>\n",
       "      <td>1812cdb7</td>\n",
       "      <td>23885c9e</td>\n",
       "      <td>1</td>\n",
       "      <td>16</td>\n",
       "      <td>0</td>\n",
       "      <td>15704</td>\n",
       "      <td>320</td>\n",
       "      <td>50</td>\n",
       "      <td>1722</td>\n",
       "      <td>0</td>\n",
       "      <td>35</td>\n",
       "      <td>-1</td>\n",
       "      <td>79</td>\n",
       "      <td>0</td>\n",
       "    </tr>\n",
       "    <tr>\n",
       "      <th>3817921</th>\n",
       "      <td>1005</td>\n",
       "      <td>0</td>\n",
       "      <td>85f751fd</td>\n",
       "      <td>c4e18dd6</td>\n",
       "      <td>50e219e0</td>\n",
       "      <td>8bbb7062</td>\n",
       "      <td>ef1fc174</td>\n",
       "      <td>0f2161f8</td>\n",
       "      <td>5c01cfbc</td>\n",
       "      <td>2b0f4c31</td>\n",
       "      <td>fce66524</td>\n",
       "      <td>1</td>\n",
       "      <td>20</td>\n",
       "      <td>0</td>\n",
       "      <td>21189</td>\n",
       "      <td>320</td>\n",
       "      <td>50</td>\n",
       "      <td>2424</td>\n",
       "      <td>1</td>\n",
       "      <td>161</td>\n",
       "      <td>-1</td>\n",
       "      <td>71</td>\n",
       "      <td>0</td>\n",
       "    </tr>\n",
       "    <tr>\n",
       "      <th>4375335</th>\n",
       "      <td>1005</td>\n",
       "      <td>1</td>\n",
       "      <td>5b4d2eda</td>\n",
       "      <td>16a36ef3</td>\n",
       "      <td>f028772b</td>\n",
       "      <td>ecad2386</td>\n",
       "      <td>7801e8d9</td>\n",
       "      <td>07d7df22</td>\n",
       "      <td>a99f214a</td>\n",
       "      <td>0cdc2afe</td>\n",
       "      <td>76dc4769</td>\n",
       "      <td>1</td>\n",
       "      <td>02</td>\n",
       "      <td>0</td>\n",
       "      <td>19950</td>\n",
       "      <td>320</td>\n",
       "      <td>50</td>\n",
       "      <td>1800</td>\n",
       "      <td>3</td>\n",
       "      <td>167</td>\n",
       "      <td>100075</td>\n",
       "      <td>23</td>\n",
       "      <td>0</td>\n",
       "    </tr>\n",
       "    <tr>\n",
       "      <th>3324163</th>\n",
       "      <td>1005</td>\n",
       "      <td>0</td>\n",
       "      <td>85f751fd</td>\n",
       "      <td>c4e18dd6</td>\n",
       "      <td>50e219e0</td>\n",
       "      <td>e2a1ca37</td>\n",
       "      <td>2347f47a</td>\n",
       "      <td>8ded1f7a</td>\n",
       "      <td>ee459291</td>\n",
       "      <td>ad01d971</td>\n",
       "      <td>47a322d1</td>\n",
       "      <td>1</td>\n",
       "      <td>17</td>\n",
       "      <td>0</td>\n",
       "      <td>17016</td>\n",
       "      <td>320</td>\n",
       "      <td>50</td>\n",
       "      <td>1873</td>\n",
       "      <td>3</td>\n",
       "      <td>39</td>\n",
       "      <td>-1</td>\n",
       "      <td>23</td>\n",
       "      <td>0</td>\n",
       "    </tr>\n",
       "    <tr>\n",
       "      <th>8414628</th>\n",
       "      <td>1005</td>\n",
       "      <td>0</td>\n",
       "      <td>85f751fd</td>\n",
       "      <td>c4e18dd6</td>\n",
       "      <td>50e219e0</td>\n",
       "      <td>7358e05e</td>\n",
       "      <td>b9528b13</td>\n",
       "      <td>cef3e649</td>\n",
       "      <td>7961236b</td>\n",
       "      <td>a1ce9c97</td>\n",
       "      <td>684581ce</td>\n",
       "      <td>1</td>\n",
       "      <td>17</td>\n",
       "      <td>0</td>\n",
       "      <td>1037</td>\n",
       "      <td>320</td>\n",
       "      <td>50</td>\n",
       "      <td>178</td>\n",
       "      <td>3</td>\n",
       "      <td>1327</td>\n",
       "      <td>-1</td>\n",
       "      <td>15</td>\n",
       "      <td>1</td>\n",
       "    </tr>\n",
       "  </tbody>\n",
       "</table>"
      ],
      "text/plain": [
       "<IPython.core.display.HTML object>"
      ]
     },
     "metadata": {},
     "output_type": "display_data"
    }
   ],
   "source": [
    "dls.show()"
   ]
  },
  {
   "cell_type": "markdown",
   "metadata": {},
   "source": [
    "## Embeddings"
   ]
  },
  {
   "cell_type": "code",
   "execution_count": null,
   "metadata": {},
   "outputs": [],
   "source": [
    "def _fixed_emb_sz(classes, n, k):\n",
    "    \"Pick a fixed embedding size for `n` based on `k`.\"\n",
    "    n_cat = len(classes[n])\n",
    "    sz    = k  # rule of thumb\n",
    "    return n_cat,sz\n",
    "\n",
    "def get_emb_sz(to, k):\n",
    "    \"Get default embedding size from `TabularPreprocessor` `proc` or the ones in `sz_dict`\"\n",
    "    return [_fixed_emb_sz(to.classes, n, k) for n in to.cat_names]"
   ]
  },
  {
   "cell_type": "markdown",
   "metadata": {},
   "source": [
    "## Avazu Model ( FGCNN v2 )"
   ]
  },
  {
   "cell_type": "code",
   "execution_count": null,
   "metadata": {},
   "outputs": [],
   "source": [
    "class ConvPoolRecombine(Module):\n",
    "    \"\"\"\n",
    "    input : ( N, C_in, H, W ), where w represents `k` ( emebdding size )\n",
    "    output: ( N, new_i, H / 2, W), where `2` represents max pool kernel size which is fixed as `2` for now.\n",
    "    \"\"\"\n",
    "    \n",
    "    def __init__(self, ch_in, ch_out, recomb_ch_out, out_wh, h, hp):\n",
    "        store_attr()\n",
    "        \n",
    "        self.conv = nn.Conv2d(in_channels=ch_in,\n",
    "                              out_channels=ch_out,\n",
    "                              kernel_size=(h, 1),\n",
    "                              padding='same',\n",
    "                              stride=(1, 1)\n",
    "                             )\n",
    "        \n",
    "        self.tanh   = nn.Tanh()\n",
    "        self.pool   = nn.MaxPool2d(kernel_size=(hp, 1))\n",
    "        \n",
    "        self.recomb = nn.Linear(out_wh*ch_out, out_wh*recomb_ch_out)\n",
    "    \n",
    "    def forward(self, x):\n",
    "        batch_size = x.shape[0]\n",
    "        embed_size = x.shape[3]\n",
    "        \n",
    "        # output shape: (N, C_out, H, W)\n",
    "        c = self.conv(x)\n",
    "        c = self.tanh(c)\n",
    "        \n",
    "        # output shape: (N, C_out, H / hp, W), where hp = `2`\n",
    "        p = self.pool(c)\n",
    "        \n",
    "        # output shape: (N, H / hp, W, C_out)\n",
    "        f = p.permute([0, 2, 3, 1]).contiguous()\n",
    "        \n",
    "        # flattening\n",
    "        # shape: (N, H/2*W*C_out)\n",
    "        f = f.view(batch_size, -1)\n",
    "        \n",
    "        # recombining\n",
    "        # shape: (N, H/2, W, C_new)\n",
    "        r = self.recomb(f).view(batch_size, -1, embed_size, self.recomb_ch_out)\n",
    "        \n",
    "        # shape: (N, c_new*H/hp, W)\n",
    "        out_r = r.permute([0, 3, 1, 2]).contiguous().view(batch_size, -1, embed_size)\n",
    "        \n",
    "        return p, out_r\n",
    "    \n",
    "class FGCNN_v2(Module):\n",
    "    def __init__(self, emb_szs, conv_kernels, kernels, dense_layers, h, hp):\n",
    "        \"\"\"\n",
    "        emb_szs     : list of tuples representing embedding size e.g. [(4, k), (6, k)]\n",
    "        conv_kernels: list of convolutional kernels\n",
    "        kernels     : kernels to be used\n",
    "        h           : convolutional filter size\n",
    "        hp          : pooling kernel size\n",
    "        \"\"\"\n",
    "        \n",
    "        self.k        = emb_szs[0][1]\n",
    "        self.n_fields = len(emb_szs) \n",
    "        self.embeds   = nn.ModuleList([Embedding(ni, nf) for ni,nf in emb_szs])\n",
    "        self.n_emb    = sum(e.embedding_dim for e in self.embeds)\n",
    "        \n",
    "        self.conv_layers = nn.ModuleList([ConvPoolRecombine(ch_in=1 if i == 0 else conv_kernels[i-1], \n",
    "                                                            ch_out=conv_kernels[i], \n",
    "                                                            recomb_ch_out=kernels[i],\n",
    "                                                            out_wh=int(self.n_fields / (2 ** (i + 1))) * self.k,\n",
    "                                                            h=h, \n",
    "                                                            hp=hp\n",
    "                                                           ) for i in range(len(conv_kernels))\n",
    "                                         ])\n",
    "        \n",
    "        N = np.sum([int(self.n_fields / (hp ** (i + 1))) for i in range(len(conv_kernels))]) * kernels[0]\n",
    "        \n",
    "        self.lin_in = self.n_fields * self.k + int((N + self.n_fields) * (N + self.n_fields - 1) / 2)\n",
    "        \n",
    "        # MLP classifier\n",
    "        self.act = nn.ReLU()\n",
    "        self.mlp = nn.ModuleList([LinBnDrop(n_in=self.lin_in if i == 0  else dense_layers[i-1], \n",
    "                                            n_out=dense_layers[i],\n",
    "                                            act=self.act\n",
    "                                            ) \n",
    "                                          for i in range(len(dense_layers))\n",
    "                                 ])\n",
    "         \n",
    "        self.final_linear = nn.Linear(in_features=dense_layers[-1], out_features=1, bias=False)\n",
    "        self.sigmoid      = nn.Sigmoid()\n",
    "        \n",
    "        store_attr()\n",
    "    \n",
    "    def forward(self, x, x_cont):\n",
    "        bs = x.shape[0]\n",
    "        \n",
    "        if self.n_emb != 0:\n",
    "            x = [e(x[:,i]).unsqueeze(dim=1) for i,e in enumerate(self.embeds)]\n",
    "            x = torch.cat(x, 1)\n",
    "            \n",
    "        embed = x.clone()\n",
    "        \n",
    "        input_x = x.view(bs, 1, self.n_fields, self.k)\n",
    "        \n",
    "        p     = input_x\n",
    "        out_r = []\n",
    "        for i in range(len(self.conv_layers)):\n",
    "            p, r = self.conv_layers[i](p)\n",
    "            out_r.append(r)\n",
    "        \n",
    "        # shape: (bs, C_new * ( H / 2 ^ i), embed_size)\n",
    "        new_features = torch.cat(out_r, dim=1)\n",
    "        \n",
    "        # combine features\n",
    "        aug_emb = torch.cat([embed, new_features], dim=1)\n",
    "        \n",
    "        # inner product factorization machine using augmented embedding matrix\n",
    "        fm = []\n",
    "        \n",
    "        for i in range(aug_emb.shape[1]):\n",
    "            for j in range(i+1, aug_emb.shape[1]):\n",
    "                fm.append(torch.sum(torch.mm(aug_emb[:,i,:],\n",
    "                                             aug_emb[:,j,:].T), dim=1\n",
    "                                   ).unsqueeze(dim=1))\n",
    "\n",
    "        fm  = torch.cat(fm, dim=1)\n",
    "        \n",
    "        # flatten\n",
    "        out = torch.cat([fm, embed.view(bs, -1)], dim=1)\n",
    "        \n",
    "        for i in range(len(self.mlp)):\n",
    "            out = self.mlp[i](out)\n",
    "            \n",
    "        out = self.final_linear(out)\n",
    "        out = self.sigmoid(out)\n",
    "        \n",
    "        return out"
   ]
  },
  {
   "cell_type": "markdown",
   "metadata": {},
   "source": [
    "## Avazu Model ( FGCNN v1 )"
   ]
  },
  {
   "cell_type": "code",
   "execution_count": null,
   "metadata": {},
   "outputs": [],
   "source": [
    "def _make_conv(ni, mc, h, hp):\n",
    "    return nn.Sequential(nn.Conv2d(in_channels=ni, \n",
    "                                   out_channels=mc, \n",
    "                                   kernel_size=(h, 1), \n",
    "                                   padding='same', \n",
    "                                   stride=(1, 1)\n",
    "                                  ),\n",
    "                         nn.Tanh(),\n",
    "                         nn.MaxPool2d(kernel_size=(hp, 1))\n",
    "                        )\n",
    "\n",
    "def _make_recombination(nf, hp, k, mc, mr):\n",
    "    fan_in = (nf // hp ) if (nf // hp) > 0 else 1\n",
    "    return nn.Linear(in_features=fan_in*k*mc,\n",
    "                     out_features=fan_in*k*mr\n",
    "                    )\n",
    "\n",
    "\n",
    "class IPNN(Module):\n",
    "    def __init__(self, dense_layers):\n",
    "        self.flatten     = nn.Flatten()\n",
    "        self.act         = nn.ReLU()\n",
    "        \n",
    "        self.lin_bn_drop = nn.ModuleList([LinBnDrop(n_in=dense_layers[i], \n",
    "                                                    n_out=dense_layers[i+1],\n",
    "                                                    act=self.act\n",
    "                                                   ) \n",
    "                                          for i in range(len(dense_layers) - 1)\n",
    "                                         ])\n",
    "        \n",
    "        self.final_linear = nn.Linear(in_features=dense_layers[-1], out_features=1, bias=False)\n",
    "        self.sigmoid      = nn.Sigmoid()\n",
    "    \n",
    "    def forward(self, aug_emb):\n",
    "        fm = []\n",
    "        \n",
    "        for i in range(aug_emb.shape[1]):\n",
    "            for j in range(i+1, aug_emb.shape[1]):\n",
    "                fm.append(torch.sum(torch.mm(aug_emb[:,i,:],\n",
    "                                             aug_emb[:,j,:].T), dim=1\n",
    "                                   ).unsqueeze(dim=1))\n",
    "\n",
    "        fm  = torch.cat(fm, dim=1)\n",
    "        rfm = torch.cat((fm, self.flatten(aug_emb)), dim=1)\n",
    "        \n",
    "        dense_out = rfm\n",
    "        for i in range(len(self.lin_bn_drop)):\n",
    "            dense_out = self.lin_bn_drop[i](dense_out)\n",
    "        \n",
    "        final_res = self.final_linear(dense_out)\n",
    "        out       = self.sigmoid(final_res)\n",
    "        \n",
    "        return out\n",
    "        \n",
    "class FGCNN(Module):\n",
    "    def __init__(self, emb_szs, conv_kernels, kernels, h, hp):\n",
    "        \"\"\"\n",
    "        emb_szs     : list of tuples representing embedding size e.g. [(4, k), (6, k)]\n",
    "        conv_kernels: list of convolutional kernels\n",
    "        kernels     : kernels to be used\n",
    "        h           : convolutional filter size\n",
    "        hp          : pooling kernel size\n",
    "        \"\"\"\n",
    "        \n",
    "        self.k      = emb_szs[0][1]\n",
    "        self.embeds = nn.ModuleList([Embedding(ni, nf) for ni,nf in emb_szs])\n",
    "        self.n_emb  = sum(e.embedding_dim for e in self.embeds)\n",
    "        \n",
    "        self.conv_layers = nn.ModuleList([_make_conv(ni=1, mc=conv_kernels[0], h=h, hp=hp)]  +\\\n",
    "                                         [_make_conv(conv_kernels[i-1], conv_kernels[i], h=h, hp=hp) \\\n",
    "                                         for i in range(1, len(conv_kernels))]\n",
    "                                        )\n",
    "        \n",
    "        nf          = len(self.embeds)\n",
    "        self.linear = nn.ModuleList()\n",
    "        \n",
    "        for i in range(len(conv_kernels)):\n",
    "            self.linear.append(_make_recombination(nf // (hp ** i), hp, self.k, conv_kernels[i], mr=kernels[i]))\n",
    "            \n",
    "        \n",
    "        self.flatten = nn.Flatten()\n",
    "            \n",
    "        store_attr()\n",
    "        \n",
    "        \n",
    "    def forward(self, x):\n",
    "        bs = x.shape[0]\n",
    "        \n",
    "        if self.n_emb != 0:\n",
    "            x = [e(x[:,i]).unsqueeze(dim=1) for i,e in enumerate(self.embeds)]\n",
    "            x = torch.cat(x, 1)\n",
    "        \n",
    "        # embed is embedding matrix that would be used in deep\n",
    "        # classifier.\n",
    "        embed = x.clone()\n",
    "        \n",
    "        # x is embedding matrix used for feature generation\n",
    "        x   = x.unsqueeze(dim=1) # adding a single channel for convolution\n",
    "        out = x\n",
    "        recombined = []\n",
    "        \n",
    "        for i in range(len(self.conv_layers)):\n",
    "            out = self.conv_layers[i](out)\n",
    "            \n",
    "            flat = self.flatten(out)\n",
    "            flat = self.linear[i](flat)\n",
    "            flat = flat.reshape(bs, -1, self.k)\n",
    "            \n",
    "            recombined.append(flat)\n",
    "            \n",
    "        recombined = torch.cat(recombined, dim=1)\n",
    "        recombined = torch.cat((recombined, embed), dim=1)\n",
    "\n",
    "        return recombined        "
   ]
  },
  {
   "cell_type": "code",
   "execution_count": null,
   "metadata": {},
   "outputs": [],
   "source": [
    "class AvazuModel(Module):\n",
    "    def __init__(self, k, emb_szs, conv_kernels=[6, 8], kernels=[3, 3], h=7, hp=2, dense_layers=[]):\n",
    "        # store all attributes\n",
    "        store_attr()\n",
    "        \n",
    "        self.fgcnn   = FGCNN(emb_szs, conv_kernels, kernels, h, hp)\n",
    "        self.n_fgcnn = self.get_num_feats(emb_szs, kernels)\n",
    "        \n",
    "        tot_f = len(emb_szs) + self.n_fgcnn\n",
    "        tot_f = (tot_f * k) + (((tot_f * (tot_f - 1)) / 2))\n",
    "        \n",
    "        dense_layers = [int(tot_f)] + dense_layers\n",
    "        self.ipnn    = IPNN(dense_layers)\n",
    "        \n",
    "        \n",
    "        \n",
    "    def forward(self, x_cat, x_cont):\n",
    "        out = self.fgcnn(x_cat)\n",
    "        out = self.ipnn(out)\n",
    "        \n",
    "        return out\n",
    "    \n",
    "    def get_num_feats(self, emb_szs, kernels):\n",
    "        n_feats  = len(emb_szs)\n",
    "        num_maps = n_feats \n",
    "        n = 0\n",
    "        for i in range(len(kernels)):\n",
    "            n += kernels[i] * (n_feats // (self.hp ** (i + 1)))\n",
    "            \n",
    "        return n"
   ]
  },
  {
   "cell_type": "code",
   "execution_count": null,
   "metadata": {},
   "outputs": [],
   "source": [
    "cats, conts, y = dls.one_batch()"
   ]
  },
  {
   "cell_type": "code",
   "execution_count": null,
   "metadata": {},
   "outputs": [
    {
     "name": "stdout",
     "output_type": "stream",
     "text": [
      "torch.Size([2048, 1])\n"
     ]
    }
   ],
   "source": [
    "emb_szs = get_emb_sz(dls.train_ds, k=40)\n",
    "\n",
    "m = FGCNN_v2(emb_szs=emb_szs, \n",
    "             conv_kernels=[6, 8, 10, 12], \n",
    "             kernels=[2, 2, 2, 2],\n",
    "             dense_layers=[256, 128, 64],\n",
    "             h=7,\n",
    "             hp=2\n",
    "            )"
   ]
  },
  {
   "cell_type": "markdown",
   "metadata": {},
   "source": [
    "### Avazu Model using FGCNN v1"
   ]
  },
  {
   "cell_type": "code",
   "execution_count": null,
   "metadata": {},
   "outputs": [],
   "source": [
    "emb_szs = get_emb_sz(dls.train_ds, k=40)\n",
    "m       = AvazuModel(k=40, \n",
    "                     emb_szs=emb_szs, \n",
    "                     conv_kernels=[14, 16, 18, 20], \n",
    "                     kernels=[3, 3, 3, 3],\n",
    "                     dense_layers=[256, 128, 64]\n",
    "                    )"
   ]
  },
  {
   "cell_type": "markdown",
   "metadata": {},
   "source": [
    "### FGCNN v2"
   ]
  },
  {
   "cell_type": "code",
   "execution_count": null,
   "metadata": {},
   "outputs": [],
   "source": [
    "emb_szs = get_emb_sz(dls.train_ds, k=40)\n",
    "\n",
    "m = FGCNN_v2(emb_szs=emb_szs, \n",
    "             conv_kernels=[14, 16, 18, 20], \n",
    "             kernels=[3, 3, 3, 3],\n",
    "             dense_layers=[4096, 2048, 1024, 512],\n",
    "             h=7,\n",
    "             hp=2\n",
    "            )"
   ]
  },
  {
   "cell_type": "code",
   "execution_count": null,
   "metadata": {},
   "outputs": [],
   "source": [
    "learn = TabularLearner(dls, m, loss_func=BCELossFlat(), opt_func=ranger)"
   ]
  },
  {
   "cell_type": "code",
   "execution_count": null,
   "metadata": {},
   "outputs": [
    {
     "data": {
      "text/html": [],
      "text/plain": [
       "<IPython.core.display.HTML object>"
      ]
     },
     "metadata": {},
     "output_type": "display_data"
    },
    {
     "name": "stderr",
     "output_type": "stream",
     "text": [
      "/home/jovyan/my-conda-envs/dev/lib/python3.8/site-packages/fastai/callback/schedule.py:269: UserWarning: color is redundantly defined by the 'color' keyword argument and the fmt string \"ro\" (-> color='r'). The keyword argument will take precedence.\n",
      "  ax.plot(val, idx, 'ro', label=nm, c=color)\n"
     ]
    },
    {
     "data": {
      "text/plain": [
       "SuggestedLRs(valley=0.00019054606673307717)"
      ]
     },
     "execution_count": null,
     "metadata": {},
     "output_type": "execute_result"
    },
    {
     "data": {
      "image/png": "[encoded data removed]",
      "text/plain": [
       "<Figure size 432x288 with 1 Axes>"
      ]
     },
     "metadata": {
      "needs_background": "light"
     },
     "output_type": "display_data"
    }
   ],
   "source": [
    "learn.lr_find()"
   ]
  },
  {
   "cell_type": "code",
   "execution_count": null,
   "metadata": {},
   "outputs": [
    {
     "data": {
      "text/html": [
       "\n",
       "    <div>\n",
       "        <style>\n",
       "            /* Turns off some styling */\n",
       "            progress {\n",
       "                /* gets rid of default border in Firefox and Opera. */\n",
       "                border: none;\n",
       "                /* Needs to be in here for Safari polyfill so background images work as expected. */\n",
       "                background-size: auto;\n",
       "            }\n",
       "            .progress-bar-interrupted, .progress-bar-interrupted::-webkit-progress-bar {\n",
       "                background: #F44336;\n",
       "            }\n",
       "        </style>\n",
       "      <progress value='0' class='' max='1' style='width:300px; height:20px; vertical-align: middle;'></progress>\n",
       "      0.00% [0/1 00:00<00:00]\n",
       "    </div>\n",
       "    \n",
       "<table border=\"1\" class=\"dataframe\">\n",
       "  <thead>\n",
       "    <tr style=\"text-align: left;\">\n",
       "      <th>epoch</th>\n",
       "      <th>train_loss</th>\n",
       "      <th>valid_loss</th>\n",
       "      <th>time</th>\n",
       "    </tr>\n",
       "  </thead>\n",
       "  <tbody>\n",
       "  </tbody>\n",
       "</table><p>\n",
       "\n",
       "    <div>\n",
       "        <style>\n",
       "            /* Turns off some styling */\n",
       "            progress {\n",
       "                /* gets rid of default border in Firefox and Opera. */\n",
       "                border: none;\n",
       "                /* Needs to be in here for Safari polyfill so background images work as expected. */\n",
       "                background-size: auto;\n",
       "            }\n",
       "            .progress-bar-interrupted, .progress-bar-interrupted::-webkit-progress-bar {\n",
       "                background: #F44336;\n",
       "            }\n",
       "        </style>\n",
       "      <progress value='2093' class='' max='3695' style='width:300px; height:20px; vertical-align: middle;'></progress>\n",
       "      56.64% [2093/3695 4:04:50<3:07:23 0.3422]\n",
       "    </div>\n",
       "    "
      ],
      "text/plain": [
       "<IPython.core.display.HTML object>"
      ]
     },
     "metadata": {},
     "output_type": "display_data"
    }
   ],
   "source": [
    "learn.fit_flat_cos(1, 2e-4, cbs=EarlyStoppingCallback())"
   ]
  },
  {
   "cell_type": "code",
   "execution_count": null,
   "metadata": {},
   "outputs": [],
   "source": [
    "learn.validate()"
   ]
  },
  {
   "cell_type": "code",
   "execution_count": null,
   "metadata": {},
   "outputs": [],
   "source": [
    "# save model\n",
    "learn.save(file=DATA_DIR / 'models' / 'fgcnn_v2_single_epoch_es_but_last_day.pkl')"
   ]
  },
  {
   "cell_type": "code",
   "execution_count": null,
   "metadata": {},
   "outputs": [
    {
     "data": {
      "text/html": [],
      "text/plain": [
       "<IPython.core.display.HTML object>"
      ]
     },
     "metadata": {},
     "output_type": "display_data"
    }
   ],
   "source": [
    "dl    = learn.dls.test_dl(df_test)\n",
    "preds = learn.get_preds(dl=dl)"
   ]
  },
  {
   "cell_type": "code",
   "execution_count": null,
   "metadata": {},
   "outputs": [
    {
     "data": {
      "text/plain": [
       "TensorBase(0.4240)"
      ]
     },
     "execution_count": null,
     "metadata": {},
     "output_type": "execute_result"
    }
   ],
   "source": [
    "tst = BCELossFlat()\n",
    "tst(preds[0], torch.tensor(df_test['click'].values).float())"
   ]
  },
  {
   "cell_type": "code",
   "execution_count": null,
   "metadata": {},
   "outputs": [],
   "source": [
    "sub = pd.read_csv(DATA_DIR / 'sampleSubmission')\n",
    "sub.loc[:, 'click'] = preds[0].squeeze(dim=1).cpu().numpy()\n",
    "\n",
    "sub.to_csv(DATA_DIR / 'submissions' / 'fgcnn_v2_single_epoch_es_but_last_day.csv', index=False)"
   ]
  }
 ],
 "metadata": {
  "kernelspec": {
   "display_name": "dev",
   "language": "python",
   "name": "dev"
  }
 },
 "nbformat": 4,
 "nbformat_minor": 4
}
