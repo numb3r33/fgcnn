{
 "cells": [
  {
   "cell_type": "code",
   "execution_count": null,
   "metadata": {},
   "outputs": [],
   "source": [
    "#hide\n",
    "from fastai.tabular.all import *\n",
    "from fgcnn.data         import *\n",
    "from fgcnn.model        import *\n",
    "from fgcnn.train        import *"
   ]
  },
  {
   "cell_type": "markdown",
   "metadata": {},
   "source": [
    "# FGCNN \n",
    "\n",
    "> Implementation of Feature Generation by Convolutional Neural Networks using `fast.ai`."
   ]
  },
  {
   "cell_type": "markdown",
   "metadata": {},
   "source": [
    "Abstract taken from [paper](https://arxiv.org/abs/1904.04447)\n",
    "\n",
    "> Click-Through Rate prediction is an important task in recommender systems, which aims to estimate the probability of a user to click on a given item. Recently, many deep models have been proposed to learn low-order and high-order feature interactions from original features. However, since useful interactions are always sparse, it is difficult for DNN to learn them effectively under a large number of parameters. In real scenarios, artificial features are able to improve the performance of deep models (such as Wide & Deep Learning), but feature engineering is expensive and requires domain knowledge, making it impractical in different scenarios. Therefore, it is necessary to augment feature space automatically. In this paper, We propose a novel Feature Generation by Convolutional Neural Network (FGCNN) model with two components: Feature Generation and Deep Classifier. Feature Generation leverages the strength of CNN to generate local patterns and recombine them to generate new features. Deep Classifier adopts the structure of IPNN to learn interactions from the augmented feature space. Experimental results on three large-scale datasets show that FGCNN significantly outperforms nine state-of-the-art models. Moreover, when applying some state-of-the-art models as Deep Classifier, better performance is always achieved, showing the great compatibility of our FGCNN model. This work explores a novel direction for CTR predictions: it is quite useful to reduce the learning difficulties of DNN by automatically identifying important features.\n",
    "\n",
    "\n",
    "- Extracting effective and efficient features for this task is very expensive and requires domain expertise.\n",
    "- This work proposes to use FGCNN ( Feature Generation by CNN ) to solve this problem.\n",
    "- CNN is used to extract local patterns which are then combined to generate new features.\n",
    "\n",
    "![Wide vs FGCNN](./images/comparison.png)\n",
    "\n",
    "- It is difficult for DNN to learn feature interactions because these are very sparse. e.g. suppose we want to calculate the probablity of a user downloading a game given features like `age`, `country`, `gender`, `city` and turns out that only `age` and `country` are useful in predicting the outcome variable and rest is noise. It becomes very hard for DNN to learn that embeddings for `country` and `city` must be `0`.\n",
    "\n",
    "- CNN alone cannot solve this problem because there is no transitional invariance among the features ( `age`, `gender`, `country`, `city` ) is similar to ( `age`, `gender`, `city`, `country` ), so that is why the author has proposed to use CNNs with MLPs as shown in the following figure\n",
    "\n",
    "![Model Architecture](./images/model_arch.png)"
   ]
  },
  {
   "cell_type": "markdown",
   "metadata": {},
   "source": [
    "### Input dataset requirements\n",
    "\n",
    "- For most of the ctr prediction tasks, data is collected in the form of `multi-field` categorical form such that each feature could be transformed into high dimensional sparse ( binary ) vector via one hot encoding as an example.\n",
    "- For example, (Gender=Male, Height=175, Age=18, Name=Bob) can be represented as:\n",
    "\n",
    "![multi_field](./images/multi_field.png)"
   ]
  },
  {
   "cell_type": "markdown",
   "metadata": {},
   "source": [
    "### Model structure\n",
    "\n",
    "- Feature Embedding Layer : Every categorical field is passed through an embedding layer before passing to feature generation module.\n",
    "- Feature Generation Layer: ( CNN + Recombination ) layer. CNN extracts useful neighbor patterns and recombination layer generates global feature interactions.\n",
    "- Deep Classifier Layer: IPNN model shown below\n",
    "\n",
    "![](./images/ipnn_model.png)\n",
    "\n",
    "**We could use any custom model ( FM, DNN, IPNN, DeepFM etc. ) in the deep classifier layer based on the task at hand.**"
   ]
  },
  {
   "cell_type": "markdown",
   "metadata": {},
   "source": [
    "### Loss Function\n",
    "\n",
    "![loss_func](./images/loss_func.png)"
   ]
  },
  {
   "cell_type": "markdown",
   "metadata": {},
   "source": [
    "### Experiments\n",
    "\n",
    "![experiments](./images/experiments.png)"
   ]
  },
  {
   "cell_type": "markdown",
   "metadata": {},
   "source": [
    "**We have tried to use the [Avazu]() dataset for our experiments.**"
   ]
  },
  {
   "cell_type": "markdown",
   "metadata": {},
   "source": [
    "## Install"
   ]
  },
  {
   "cell_type": "markdown",
   "metadata": {},
   "source": [
    "`pip install git+https://github.com/numb3r33/fgcnn.git`"
   ]
  },
  {
   "cell_type": "markdown",
   "metadata": {},
   "source": [
    "## How to use"
   ]
  },
  {
   "cell_type": "code",
   "execution_count": null,
   "metadata": {},
   "outputs": [],
   "source": [
    "#slow\n",
    "\n",
    "\n",
    "# prepare data loaders\n",
    "dls     = get_dl()\n",
    "\n",
    "# prepare embedding matrix\n",
    "emb_szs = get_emb_sz(dls.train_ds, k=40) # `k` - embedding_size ( 40 ) mentioned in the paper for this dataset.\n",
    "\n",
    "# prepare model architecture\n",
    "m = FGCNN(emb_szs=emb_szs, \n",
    "             conv_kernels=[14, 16, 18, 20], \n",
    "             kernels=[3, 3, 3, 3],\n",
    "             dense_layers=[4096, 2048, 1024, 512],\n",
    "             h=7,\n",
    "             hp=2\n",
    "            )\n",
    "\n",
    "# create tabular learner\n",
    "learn = TabularLearner(dls, m, loss_func=BCELossFlat(), opt_func=ranger)\n",
    "\n",
    "# train and validate\n",
    "learn = train(dls, m, lr, loss_func=BCELossFlat(), n_epochs=1)"
   ]
  }
 ],
 "metadata": {
  "kernelspec": {
   "display_name": "Python 3",
   "language": "python",
   "name": "python3"
  }
 },
 "nbformat": 4,
 "nbformat_minor": 4
}
